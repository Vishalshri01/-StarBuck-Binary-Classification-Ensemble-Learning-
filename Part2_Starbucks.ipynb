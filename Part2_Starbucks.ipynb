{
 "cells": [
  {
   "cell_type": "markdown",
   "metadata": {},
   "source": [
    "# (Part 2) \n",
    "\n",
    "#### by Om\n"
   ]
  },
  {
   "cell_type": "markdown",
   "metadata": {},
   "source": [
    "### Data Preparation from Part 1"
   ]
  },
  {
   "cell_type": "code",
   "execution_count": 1,
   "metadata": {},
   "outputs": [],
   "source": [
    "# Import the relevant libraries \n",
    "import numpy as np\n",
    "import pandas as pd\n",
    "import matplotlib.pyplot as plt \n",
    "%matplotlib inline\n",
    "import math\n",
    "import json\n",
    "plt.rc(\"font\", size=14)\n",
    "import seaborn as sns\n",
    "sns.set()\n",
    "sns.set(style=\"whitegrid\", color_codes=True)"
   ]
  },
  {
   "cell_type": "code",
   "execution_count": 2,
   "metadata": {},
   "outputs": [],
   "source": [
    "# Read in the csv files\n",
    "offer_df = pd.read_csv('total_issued_offer.csv')\n",
    "customer_df = pd.read_csv('customer_df.csv')\n",
    "rfm_df = pd.read_csv('rfm_score.csv')"
   ]
  },
  {
   "cell_type": "code",
   "execution_count": 3,
   "metadata": {},
   "outputs": [],
   "source": [
    "# Merge all the datasets\n",
    "customer_offer_df_mod = offer_df.merge(customer_df, left_on = 'customer_id', right_on ='customer_id', how='left')\n",
    "customer_offer_df =customer_offer_df_mod.merge(rfm_df, left_on = 'customer_id', right_on ='customer_id', how='left').fillna(0)"
   ]
  },
  {
   "cell_type": "code",
   "execution_count": 4,
   "metadata": {},
   "outputs": [
    {
     "name": "stdout",
     "output_type": "stream",
     "text": [
      "<class 'pandas.core.frame.DataFrame'>\n",
      "Int64Index: 76277 entries, 0 to 76276\n",
      "Data columns (total 14 columns):\n",
      " #   Column            Non-Null Count  Dtype  \n",
      "---  ------            --------------  -----  \n",
      " 0   customer_id       76277 non-null  object \n",
      " 1   days              76277 non-null  int64  \n",
      " 2   offer_id          76277 non-null  object \n",
      " 3   max_offer_day     76277 non-null  float64\n",
      " 4   offer_type        76277 non-null  object \n",
      " 5   desirable_use     76277 non-null  object \n",
      " 6   gender            76277 non-null  object \n",
      " 7   age               76277 non-null  int64  \n",
      " 8   became_member_on  76277 non-null  object \n",
      " 9   income            76277 non-null  float64\n",
      " 10  days_as_member    76277 non-null  int64  \n",
      " 11  recency           76277 non-null  float64\n",
      " 12  frequency         76277 non-null  float64\n",
      " 13  monetary          76277 non-null  float64\n",
      "dtypes: float64(5), int64(3), object(6)\n",
      "memory usage: 8.7+ MB\n"
     ]
    }
   ],
   "source": [
    "customer_offer_df.info()"
   ]
  },
  {
   "cell_type": "code",
   "execution_count": 5,
   "metadata": {},
   "outputs": [],
   "source": [
    "# Drop the unnecessary features \n",
    "customer_offer_df.drop(['became_member_on','days','max_offer_day','offer_id'],axis =1, inplace= True)"
   ]
  },
  {
   "cell_type": "code",
   "execution_count": 6,
   "metadata": {},
   "outputs": [],
   "source": [
    "total_issued_bogo = customer_offer_df.query('offer_type ==\"bogo\"')\n",
    "total_issued_disc = customer_offer_df.query('offer_type ==\"discount\"')\n",
    "total_issued_info = customer_offer_df.query('offer_type ==\"informational\"')"
   ]
  },
  {
   "cell_type": "markdown",
   "metadata": {},
   "source": [
    "### Characteristics of the Dataset"
   ]
  },
  {
   "cell_type": "markdown",
   "metadata": {},
   "source": [
    "#### 1. Imbalanced Data "
   ]
  },
  {
   "cell_type": "code",
   "execution_count": 7,
   "metadata": {
    "scrolled": true
   },
   "outputs": [
    {
     "name": "stdout",
     "output_type": "stream",
     "text": [
      "BOGO Offer:\n",
      "non-desirable    25129\n",
      "desirable         5370\n",
      "Name: desirable_use, dtype: int64\n",
      " \n",
      "Discount Offer:\n",
      "non-desirable    24075\n",
      "desirable         6468\n",
      "Name: desirable_use, dtype: int64\n",
      " \n",
      "Informational Offer:\n",
      "non-desirable    14048\n",
      "desirable         1187\n",
      "Name: desirable_use, dtype: int64\n"
     ]
    }
   ],
   "source": [
    "print('BOGO Offer:' )\n",
    "print(total_issued_bogo.desirable_use.value_counts())\n",
    "print(' ')\n",
    "print('Discount Offer:' )\n",
    "print(total_issued_disc.desirable_use.value_counts())\n",
    "print(' ')\n",
    "print('Informational Offer:' )\n",
    "print(total_issued_info.desirable_use.value_counts())"
   ]
  },
  {
   "cell_type": "code",
   "execution_count": 8,
   "metadata": {},
   "outputs": [
    {
     "data": {
      "text/plain": [
       "<AxesSubplot:xlabel='offer_type', ylabel='count'>"
      ]
     },
     "execution_count": 8,
     "metadata": {},
     "output_type": "execute_result"
    },
    {
     "data": {
      "image/png": "[encoded data removed]",
      "text/plain": [
       "<Figure size 432x288 with 1 Axes>"
      ]
     },
     "metadata": {},
     "output_type": "display_data"
    }
   ],
   "source": [
    "offer_order =['bogo', 'discount','informational']\n",
    "sns.countplot(data= customer_offer_df, x= 'offer_type', hue = 'desirable_use', order = offer_order)"
   ]
  },
  {
   "cell_type": "markdown",
   "metadata": {},
   "source": [
    "> The size of 'informational' offer class is very low. It consist of 9,86% of all datapoints only. Imbalanced data\n"
   ]
  },
  {
   "cell_type": "markdown",
   "metadata": {},
   "source": [
    "#### 2. Classification Feature Selection \n"
   ]
  },
  {
   "cell_type": "markdown",
   "metadata": {},
   "source": [
    "Running the example first creates the regression dataset, then defines the feature selection and applies the feature selection procedure to the dataset, returning a subset of the selected input features. \n"
   ]
  },
  {
   "cell_type": "code",
   "execution_count": 9,
   "metadata": {},
   "outputs": [],
   "source": [
    "# Import necessary libraries \n",
    "from sklearn.feature_selection import f_classif\n",
    "\n",
    "# chi-squared test with similar proportions\n",
    "from scipy.stats import chi2_contingency\n",
    "from scipy.stats import chi2"
   ]
  },
  {
   "cell_type": "code",
   "execution_count": 10,
   "metadata": {},
   "outputs": [],
   "source": [
    "def Feature_selection(offer_df):\n",
    "    \n",
    "    # Target variable: 'desirable_use'\n",
    "    categorical_target = offer_df.desirable_use\n",
    "    \n",
    "    selected_inputs = []\n",
    "    \n",
    "    # Numerical Inputs Selection \n",
    "    numerical_inputs = offer_df.drop(['customer_id','desirable_use','gender','offer_type'], axis =1)\n",
    "    \n",
    "    anova_test = f_classif(numerical_inputs, categorical_target)\n",
    "    \n",
    "    prob = 0.95\n",
    "    alpha = 1.0 - prob\n",
    "    \n",
    "    for i in range(len(anova_test[1])):\n",
    "        if anova_test[1][i] < alpha:\n",
    "            selected_inputs.append(numerical_inputs.columns[i])\n",
    "    \n",
    "    # Categorical Inputs Selection \n",
    "    categorical_input = offer_df['gender']\n",
    "    gender_df = pd.get_dummies(offer_df.gender, prefix = 'gender', prefix_sep = '_')\n",
    "    gender_df['desirable_use'], gender_df['customer_id'] = offer_df['desirable_use'], offer_df['customer_id']\n",
    "    \n",
    "    contingency_table = gender_df.groupby(['desirable_use'], as_index = True).sum()\n",
    "    stat, p, dof, expected = chi2_contingency(contingency_table.values)\n",
    "       \n",
    "    if p <= alpha:\n",
    "        selected_inputs.append('gender')\n",
    "\n",
    "        \n",
    "    return offer_df[selected_inputs]\n"
   ]
  },
  {
   "cell_type": "code",
   "execution_count": 11,
   "metadata": {},
   "outputs": [],
   "source": [
    "bogo_df = Feature_selection(total_issued_bogo)\n",
    "discount_df = Feature_selection(total_issued_disc)\n",
    "informational_df = Feature_selection(total_issued_info)"
   ]
  },
  {
   "cell_type": "markdown",
   "metadata": {},
   "source": [
    "<a id='Analysis'></a>\n",
    "## 4. Data Analysis  \n",
    "\n",
    "&emsp;4.2. Data Spliting <br>\n",
    "&emsp;4.3. Data Balancing <br>\n",
    "&emsp;4.4. Model Comparison <br>\n",
    "&emsp;4.5. Model Evaluation <br>\n",
    "&emsp;4.6. Model Selection<br>\n",
    "### 4. 2. Data Spliting"
   ]
  },
  {
   "cell_type": "code",
   "execution_count": 12,
   "metadata": {},
   "outputs": [],
   "source": [
    "from sklearn.model_selection import train_test_split\n",
    "\n",
    "\n",
    "test_size = 0.2\n",
    "random_state = 42\n",
    "\n",
    "bogo_target= total_issued_bogo.desirable_use\n",
    "disc_target= total_issued_disc.desirable_use\n",
    "info_target= total_issued_info.desirable_use"
   ]
  },
  {
   "cell_type": "markdown",
   "metadata": {},
   "source": [
    "#### Train & Test Data"
   ]
  },
  {
   "cell_type": "code",
   "execution_count": 13,
   "metadata": {},
   "outputs": [],
   "source": [
    "# Bogo\n",
    "bogo_trainX, bogo_testX, bogo_trainy, bogo_testy = train_test_split(bogo_df, bogo_target, \n",
    "                                                                  test_size=test_size, random_state=random_state)\n",
    "# Discount\n",
    "disc_trainX, disc_testX, disc_trainy, disc_testy = train_test_split(discount_df, disc_target, \n",
    "                                                                    test_size=test_size, random_state=random_state)\n",
    "# Informational\n",
    "info_trainX, info_testX, info_trainy, info_testy = train_test_split(informational_df, info_target, \n",
    "                                                                    test_size=test_size, random_state=random_state)"
   ]
  },
  {
   "cell_type": "markdown",
   "metadata": {},
   "source": [
    "\n",
    "### 4. 3. Data Balancing "
   ]
  },
  {
   "cell_type": "code",
   "execution_count": 14,
   "metadata": {},
   "outputs": [
    {
     "name": "stdout",
     "output_type": "stream",
     "text": [
      "0.7.0\n"
     ]
    }
   ],
   "source": [
    "# check version number\n",
    "import imblearn\n",
    "print(imblearn.__version__)\n",
    "\n",
    "# Import necessary libraries \n",
    "from imblearn.over_sampling import SMOTE\n",
    "from collections import Counter"
   ]
  },
  {
   "cell_type": "code",
   "execution_count": 15,
   "metadata": {
    "scrolled": true
   },
   "outputs": [
    {
     "name": "stdout",
     "output_type": "stream",
     "text": [
      "         BOGO Training Data:  Counter({'non-desirable': 20108, 'desirable': 4291})\n",
      "     Discount Training Data:  Counter({'non-desirable': 19243, 'desirable': 5191})\n",
      "Informational Training Data:  Counter({'non-desirable': 11244, 'desirable': 944})\n"
     ]
    }
   ],
   "source": [
    "import collections\n",
    "print('         BOGO Training Data: ',collections.Counter(bogo_trainy) )\n",
    "print('     Discount Training Data: ',collections.Counter(disc_trainy) )\n",
    "print('Informational Training Data: ',collections.Counter(info_trainy) )"
   ]
  },
  {
   "cell_type": "code",
   "execution_count": 16,
   "metadata": {},
   "outputs": [],
   "source": [
    "def Balancing_Data(X_train, y_train): \n",
    "    \n",
    "    # Decide how many the minority class should be oversampled \n",
    "    \n",
    "    nondes_train = int(collections.Counter(y_train)['non-desirable'])\n",
    "    # des_train = int(collections.Counter(y_train)['desirable']*4)\n",
    "    des_train = int(nondes_train*0.7)\n",
    "    \n",
    "    # Transform the dataset\n",
    "    strategy = { 'non-desirable':nondes_train, 'desirable':des_train}\n",
    "    oversample = SMOTE(sampling_strategy=strategy)\n",
    "    \n",
    "    # Balanced dataset \n",
    "    X_balanced, y_balanced = oversample.fit_resample( X_train, y_train)\n",
    "    \n",
    "    # Summarize newly balanced Distribution\n",
    "    counter = Counter(y_balanced)\n",
    "    for k,v in counter.items():\n",
    "        per = v / len(y_balanced) * 100\n",
    "        print('Class=%s, n=%d (%.3f%%)' % (k, v, per))\n",
    "        \n",
    "    # Plot the distribution\n",
    "    plt.bar(counter.keys(), counter.values())\n",
    "    plt.show()\n",
    "    \n",
    "    balanced_train = pd.concat([X_balanced, y_balanced],axis=1)\n",
    "    \n",
    "    return balanced_train\n",
    "    "
   ]
  },
  {
   "cell_type": "code",
   "execution_count": 17,
   "metadata": {},
   "outputs": [
    {
     "name": "stdout",
     "output_type": "stream",
     "text": [
      "Class=non-desirable, n=20108 (58.825%)\n",
      "Class=desirable, n=14075 (41.175%)\n"
     ]
    },
    {
     "data": {
      "image/png": "[encoded data removed]",
      "text/plain": [
       "<Figure size 432x288 with 1 Axes>"
      ]
     },
     "metadata": {},
     "output_type": "display_data"
    },
    {
     "name": "stdout",
     "output_type": "stream",
     "text": [
      "Class=non-desirable, n=19243 (58.824%)\n",
      "Class=desirable, n=13470 (41.176%)\n"
     ]
    },
    {
     "data": {
      "image/png": "[encoded data removed]",
      "text/plain": [
       "<Figure size 432x288 with 1 Axes>"
      ]
     },
     "metadata": {},
     "output_type": "display_data"
    },
    {
     "name": "stdout",
     "output_type": "stream",
     "text": [
      "Class=desirable, n=7870 (41.174%)\n",
      "Class=non-desirable, n=11244 (58.826%)\n"
     ]
    },
    {
     "data": {
      "image/png": "[encoded data removed]",
      "text/plain": [
       "<Figure size 432x288 with 1 Axes>"
      ]
     },
     "metadata": {},
     "output_type": "display_data"
    }
   ],
   "source": [
    "balanced_bogo = Balancing_Data(bogo_trainX, bogo_trainy)\n",
    "balanced_disc = Balancing_Data(disc_trainX, disc_trainy)\n",
    "balanced_info = Balancing_Data(info_trainX, info_trainy)"
   ]
  },
  {
   "cell_type": "markdown",
   "metadata": {},
   "source": [
    "### 4. 4. Model Comparison\n",
    "\n",
    "- Sklearn Ensemble Methods (Random Forest, AdaBoost, GradientBoost)\n",
    "- XGBoost vs. LightGBM vs. CatBoost  \n",
    "- LogisticRegression \n"
   ]
  },
  {
   "cell_type": "code",
   "execution_count": 18,
   "metadata": {},
   "outputs": [],
   "source": [
    "# Import necessary libraries \n",
    "# 1. Sklearn Ensemble Methods\n",
    "from sklearn.tree import DecisionTreeClassifier\n",
    "from sklearn.ensemble import (RandomForestClassifier, AdaBoostClassifier, GradientBoostingClassifier) \n",
    "\n",
    "# 2. XG Boost vs. Light GBM vs. CatBoost\n",
    "import xgboost as xgb # XG Boost \n",
    "import lightgbm as lgbm # Light GBM\n",
    "import catboost as cb # CatBoost\n",
    "\n",
    "# 3. A Benchmark Model\n",
    "from sklearn.linear_model import LogisticRegression \n",
    "\n",
    "# Evaluation tools \n",
    "from sklearn import metrics\n",
    "from sklearn.metrics import precision_score \n",
    "from sklearn.metrics import recall_score \n",
    "\n",
    "from time import time # To measure execution time of the model "
   ]
  },
  {
   "cell_type": "markdown",
   "metadata": {},
   "source": [
    "#### Set up the models "
   ]
  },
  {
   "cell_type": "code",
   "execution_count": 19,
   "metadata": {},
   "outputs": [],
   "source": [
    "# 1. Sklearn Ensemble Methods\n",
    "rf = RandomForestClassifier(n_estimators=500, max_features=0.06, n_jobs=6, class_weight = 'balanced', \n",
    "                            verbose = 0, random_state=42)\n",
    "\n",
    "base_estim = DecisionTreeClassifier(max_depth=1, max_features=0.06)                            \n",
    "ab = AdaBoostClassifier(base_estimator=base_estim, n_estimators=500, learning_rate=0.5, random_state=42)\n",
    "\n",
    "gbm = GradientBoostingClassifier(n_estimators=2000, subsample=0.75, max_features=0.06, verbose = 0,  validation_fraction=0.1, random_state=42)"
   ]
  },
  {
   "cell_type": "code",
   "execution_count": 20,
   "metadata": {},
   "outputs": [],
   "source": [
    "# 2. XG Boost vs. Light GBM vs. CatBoost\n",
    "xgb = xgb.XGBClassifier(n_estimators=2000, tree_method='hist', subsample=0.75, \n",
    "                        objective = 'binary:logistic', n_jobs=6, random_state=42)\n",
    "\n",
    "lgbm = lgbm.LGBMClassifier(n_estimators=2000, n_jobs=6, random_state=42)\n",
    "                          \n",
    "\n",
    "cb =  cb.CatBoostClassifier(n_estimators=2000, colsample_bylevel=0.06, max_leaves=31, subsample=0.75, \n",
    "                            thread_count=6, verbose = 0, random_state=42)"
   ]
  },
  {
   "cell_type": "code",
   "execution_count": 21,
   "metadata": {},
   "outputs": [],
   "source": [
    "# 3. A Benchmark Model\n",
    "logreg = LogisticRegression(random_state=42, class_weight = 'balanced')"
   ]
  },
  {
   "cell_type": "code",
   "execution_count": 22,
   "metadata": {},
   "outputs": [],
   "source": [
    "models = [logreg, rf, ab, gbm, xgb, lgbm, cb]\n",
    "model_names = [i.__class__.__name__ for i in models]\n",
    "es_models = ['XGBClassifier', 'LGBMClassifier', 'CatBoostClassifier']"
   ]
  },
  {
   "cell_type": "markdown",
   "metadata": {},
   "source": [
    "#### Train and Evaluate the models "
   ]
  },
  {
   "cell_type": "code",
   "execution_count": 23,
   "metadata": {},
   "outputs": [],
   "source": [
    "def Train_Evaluate_Models(balanced_df, test_inputs, test_target):\n",
    "    \n",
    "    # Identify target and inputs variables\n",
    "    balanced_target= balanced_df.desirable_use\n",
    "    balanced_inputs= balanced_df.drop(['desirable_use'], axis=1)\n",
    "    \n",
    "    # Create a validation sample from balanced training data \n",
    "    trainX_sub, trainX_valid, trainy_sub, trainy_valid = train_test_split(balanced_inputs, balanced_target, test_size=0.1)\n",
    "    \n",
    "    # Set up a dataframe to contain the results\n",
    "    results = pd.DataFrame(columns=['accuracy','prediction','recall','f1_score', 'run_time'])  \n",
    "    \n",
    "    # Training the models \n",
    "    for m, n in zip(models, model_names):\n",
    "    \n",
    "        start_time = time()\n",
    "        if n in es_models:\n",
    "            m.fit(trainX_sub, trainy_sub,\n",
    "                  eval_set = [(trainX_valid, trainy_valid)], \n",
    "                  early_stopping_rounds=15, verbose=0)\n",
    "        else:\n",
    "            m.fit(balanced_inputs, balanced_target)\n",
    "    \n",
    "        run_time = time() - start_time\n",
    "\n",
    "        y_pred = m.predict(test_inputs)\n",
    "        accuracy = np.mean( y_pred == test_target)\n",
    "        precision = precision_score(test_target, y_pred, average= 'weighted', zero_division=0)\n",
    "        recall = recall_score(test_target, y_pred, average= 'weighted', zero_division=0)\n",
    "        f1_score = 2 * (precision * recall) / (precision + recall)\n",
    "\n",
    "        results.loc[n] = [accuracy,precision, recall, f1_score, run_time]\n",
    "\n",
    "        del m\n",
    "    \n",
    "    return results\n",
    "    "
   ]
  },
  {
   "cell_type": "code",
   "execution_count": 24,
   "metadata": {},
   "outputs": [
    {
     "name": "stderr",
     "output_type": "stream",
     "text": [
      "C:\\Users\\wonso\\anaconda3\\lib\\site-packages\\sklearn\\linear_model\\_logistic.py:764: ConvergenceWarning: lbfgs failed to converge (status=1):\n",
      "STOP: TOTAL NO. of ITERATIONS REACHED LIMIT.\n",
      "\n",
      "Increase the number of iterations (max_iter) or scale the data as shown in:\n",
      "    https://scikit-learn.org/stable/modules/preprocessing.html\n",
      "Please also refer to the documentation for alternative solver options:\n",
      "    https://scikit-learn.org/stable/modules/linear_model.html#logistic-regression\n",
      "  extra_warning_msg=_LOGISTIC_SOLVER_CONVERGENCE_MSG)\n",
      "C:\\Users\\wonso\\anaconda3\\lib\\site-packages\\xgboost\\sklearn.py:888: UserWarning: The use of label encoder in XGBClassifier is deprecated and will be removed in a future release. To remove this warning, do the following: 1) Pass option use_label_encoder=False when constructing XGBClassifier object; and 2) Encode your labels (y) as integers starting with 0, i.e. 0, 1, 2, ..., [num_class - 1].\n",
      "  warnings.warn(label_encoder_deprecation_msg, UserWarning)\n"
     ]
    },
    {
     "name": "stdout",
     "output_type": "stream",
     "text": [
      "[21:16:11] WARNING: C:/Users/Administrator/workspace/xgboost-win64_release_1.3.0/src/learner.cc:1061: Starting in XGBoost 1.3.0, the default evaluation metric used with the objective 'binary:logistic' was changed from 'error' to 'logloss'. Explicitly set eval_metric if you'd like to restore the old behavior.\n"
     ]
    },
    {
     "data": {
      "text/html": [
       "<div>\n",
       "<style scoped>\n",
       "    .dataframe tbody tr th:only-of-type {\n",
       "        vertical-align: middle;\n",
       "    }\n",
       "\n",
       "    .dataframe tbody tr th {\n",
       "        vertical-align: top;\n",
       "    }\n",
       "\n",
       "    .dataframe thead th {\n",
       "        text-align: right;\n",
       "    }\n",
       "</style>\n",
       "<table border=\"1\" class=\"dataframe\">\n",
       "  <thead>\n",
       "    <tr style=\"text-align: right;\">\n",
       "      <th></th>\n",
       "      <th>accuracy</th>\n",
       "      <th>prediction</th>\n",
       "      <th>recall</th>\n",
       "      <th>f1_score</th>\n",
       "      <th>run_time</th>\n",
       "    </tr>\n",
       "  </thead>\n",
       "  <tbody>\n",
       "    <tr>\n",
       "      <th>LogisticRegression</th>\n",
       "      <td>0.628525</td>\n",
       "      <td>0.776846</td>\n",
       "      <td>0.628525</td>\n",
       "      <td>0.694859</td>\n",
       "      <td>0.286197</td>\n",
       "    </tr>\n",
       "    <tr>\n",
       "      <th>RandomForestClassifier</th>\n",
       "      <td>0.723443</td>\n",
       "      <td>0.732937</td>\n",
       "      <td>0.723443</td>\n",
       "      <td>0.728159</td>\n",
       "      <td>4.289023</td>\n",
       "    </tr>\n",
       "    <tr>\n",
       "      <th>AdaBoostClassifier</th>\n",
       "      <td>0.719180</td>\n",
       "      <td>0.766604</td>\n",
       "      <td>0.719180</td>\n",
       "      <td>0.742135</td>\n",
       "      <td>21.096846</td>\n",
       "    </tr>\n",
       "    <tr>\n",
       "      <th>GradientBoostingClassifier</th>\n",
       "      <td>0.805902</td>\n",
       "      <td>0.738656</td>\n",
       "      <td>0.805902</td>\n",
       "      <td>0.770815</td>\n",
       "      <td>23.922598</td>\n",
       "    </tr>\n",
       "    <tr>\n",
       "      <th>XGBClassifier</th>\n",
       "      <td>0.800984</td>\n",
       "      <td>0.741303</td>\n",
       "      <td>0.800984</td>\n",
       "      <td>0.769989</td>\n",
       "      <td>0.595745</td>\n",
       "    </tr>\n",
       "    <tr>\n",
       "      <th>LGBMClassifier</th>\n",
       "      <td>0.810820</td>\n",
       "      <td>0.740694</td>\n",
       "      <td>0.810820</td>\n",
       "      <td>0.774172</td>\n",
       "      <td>0.419876</td>\n",
       "    </tr>\n",
       "    <tr>\n",
       "      <th>CatBoostClassifier</th>\n",
       "      <td>0.727869</td>\n",
       "      <td>0.766007</td>\n",
       "      <td>0.727869</td>\n",
       "      <td>0.746451</td>\n",
       "      <td>1.850489</td>\n",
       "    </tr>\n",
       "  </tbody>\n",
       "</table>\n",
       "</div>"
      ],
      "text/plain": [
       "                            accuracy  prediction    recall  f1_score  \\\n",
       "LogisticRegression          0.628525    0.776846  0.628525  0.694859   \n",
       "RandomForestClassifier      0.723443    0.732937  0.723443  0.728159   \n",
       "AdaBoostClassifier          0.719180    0.766604  0.719180  0.742135   \n",
       "GradientBoostingClassifier  0.805902    0.738656  0.805902  0.770815   \n",
       "XGBClassifier               0.800984    0.741303  0.800984  0.769989   \n",
       "LGBMClassifier              0.810820    0.740694  0.810820  0.774172   \n",
       "CatBoostClassifier          0.727869    0.766007  0.727869  0.746451   \n",
       "\n",
       "                             run_time  \n",
       "LogisticRegression           0.286197  \n",
       "RandomForestClassifier       4.289023  \n",
       "AdaBoostClassifier          21.096846  \n",
       "GradientBoostingClassifier  23.922598  \n",
       "XGBClassifier                0.595745  \n",
       "LGBMClassifier               0.419876  \n",
       "CatBoostClassifier           1.850489  "
      ]
     },
     "execution_count": 24,
     "metadata": {},
     "output_type": "execute_result"
    }
   ],
   "source": [
    "Train_Evaluate_Models(balanced_bogo, bogo_testX, bogo_testy)"
   ]
  },
  {
   "cell_type": "code",
   "execution_count": 25,
   "metadata": {},
   "outputs": [
    {
     "name": "stderr",
     "output_type": "stream",
     "text": [
      "C:\\Users\\wonso\\anaconda3\\lib\\site-packages\\sklearn\\linear_model\\_logistic.py:764: ConvergenceWarning: lbfgs failed to converge (status=1):\n",
      "STOP: TOTAL NO. of ITERATIONS REACHED LIMIT.\n",
      "\n",
      "Increase the number of iterations (max_iter) or scale the data as shown in:\n",
      "    https://scikit-learn.org/stable/modules/preprocessing.html\n",
      "Please also refer to the documentation for alternative solver options:\n",
      "    https://scikit-learn.org/stable/modules/linear_model.html#logistic-regression\n",
      "  extra_warning_msg=_LOGISTIC_SOLVER_CONVERGENCE_MSG)\n",
      "C:\\Users\\wonso\\anaconda3\\lib\\site-packages\\xgboost\\sklearn.py:888: UserWarning: The use of label encoder in XGBClassifier is deprecated and will be removed in a future release. To remove this warning, do the following: 1) Pass option use_label_encoder=False when constructing XGBClassifier object; and 2) Encode your labels (y) as integers starting with 0, i.e. 0, 1, 2, ..., [num_class - 1].\n",
      "  warnings.warn(label_encoder_deprecation_msg, UserWarning)\n"
     ]
    },
    {
     "name": "stdout",
     "output_type": "stream",
     "text": [
      "[21:17:03] WARNING: C:/Users/Administrator/workspace/xgboost-win64_release_1.3.0/src/learner.cc:1061: Starting in XGBoost 1.3.0, the default evaluation metric used with the objective 'binary:logistic' was changed from 'error' to 'logloss'. Explicitly set eval_metric if you'd like to restore the old behavior.\n"
     ]
    },
    {
     "data": {
      "text/html": [
       "<div>\n",
       "<style scoped>\n",
       "    .dataframe tbody tr th:only-of-type {\n",
       "        vertical-align: middle;\n",
       "    }\n",
       "\n",
       "    .dataframe tbody tr th {\n",
       "        vertical-align: top;\n",
       "    }\n",
       "\n",
       "    .dataframe thead th {\n",
       "        text-align: right;\n",
       "    }\n",
       "</style>\n",
       "<table border=\"1\" class=\"dataframe\">\n",
       "  <thead>\n",
       "    <tr style=\"text-align: right;\">\n",
       "      <th></th>\n",
       "      <th>accuracy</th>\n",
       "      <th>prediction</th>\n",
       "      <th>recall</th>\n",
       "      <th>f1_score</th>\n",
       "      <th>run_time</th>\n",
       "    </tr>\n",
       "  </thead>\n",
       "  <tbody>\n",
       "    <tr>\n",
       "      <th>LogisticRegression</th>\n",
       "      <td>0.623343</td>\n",
       "      <td>0.743510</td>\n",
       "      <td>0.623343</td>\n",
       "      <td>0.678144</td>\n",
       "      <td>0.323135</td>\n",
       "    </tr>\n",
       "    <tr>\n",
       "      <th>RandomForestClassifier</th>\n",
       "      <td>0.686201</td>\n",
       "      <td>0.692868</td>\n",
       "      <td>0.686201</td>\n",
       "      <td>0.689518</td>\n",
       "      <td>4.415531</td>\n",
       "    </tr>\n",
       "    <tr>\n",
       "      <th>AdaBoostClassifier</th>\n",
       "      <td>0.706499</td>\n",
       "      <td>0.732201</td>\n",
       "      <td>0.706499</td>\n",
       "      <td>0.719120</td>\n",
       "      <td>19.978014</td>\n",
       "    </tr>\n",
       "    <tr>\n",
       "      <th>GradientBoostingClassifier</th>\n",
       "      <td>0.772303</td>\n",
       "      <td>0.706182</td>\n",
       "      <td>0.772303</td>\n",
       "      <td>0.737764</td>\n",
       "      <td>23.486044</td>\n",
       "    </tr>\n",
       "    <tr>\n",
       "      <th>XGBClassifier</th>\n",
       "      <td>0.764119</td>\n",
       "      <td>0.700871</td>\n",
       "      <td>0.764119</td>\n",
       "      <td>0.731129</td>\n",
       "      <td>0.455747</td>\n",
       "    </tr>\n",
       "    <tr>\n",
       "      <th>LGBMClassifier</th>\n",
       "      <td>0.779342</td>\n",
       "      <td>0.702285</td>\n",
       "      <td>0.779342</td>\n",
       "      <td>0.738810</td>\n",
       "      <td>0.257313</td>\n",
       "    </tr>\n",
       "    <tr>\n",
       "      <th>CatBoostClassifier</th>\n",
       "      <td>0.713537</td>\n",
       "      <td>0.734273</td>\n",
       "      <td>0.713537</td>\n",
       "      <td>0.723757</td>\n",
       "      <td>4.544156</td>\n",
       "    </tr>\n",
       "  </tbody>\n",
       "</table>\n",
       "</div>"
      ],
      "text/plain": [
       "                            accuracy  prediction    recall  f1_score  \\\n",
       "LogisticRegression          0.623343    0.743510  0.623343  0.678144   \n",
       "RandomForestClassifier      0.686201    0.692868  0.686201  0.689518   \n",
       "AdaBoostClassifier          0.706499    0.732201  0.706499  0.719120   \n",
       "GradientBoostingClassifier  0.772303    0.706182  0.772303  0.737764   \n",
       "XGBClassifier               0.764119    0.700871  0.764119  0.731129   \n",
       "LGBMClassifier              0.779342    0.702285  0.779342  0.738810   \n",
       "CatBoostClassifier          0.713537    0.734273  0.713537  0.723757   \n",
       "\n",
       "                             run_time  \n",
       "LogisticRegression           0.323135  \n",
       "RandomForestClassifier       4.415531  \n",
       "AdaBoostClassifier          19.978014  \n",
       "GradientBoostingClassifier  23.486044  \n",
       "XGBClassifier                0.455747  \n",
       "LGBMClassifier               0.257313  \n",
       "CatBoostClassifier           4.544156  "
      ]
     },
     "execution_count": 25,
     "metadata": {},
     "output_type": "execute_result"
    }
   ],
   "source": [
    "Train_Evaluate_Models(balanced_disc, disc_testX, disc_testy)"
   ]
  },
  {
   "cell_type": "code",
   "execution_count": 26,
   "metadata": {
    "scrolled": false
   },
   "outputs": [
    {
     "name": "stderr",
     "output_type": "stream",
     "text": [
      "C:\\Users\\wonso\\anaconda3\\lib\\site-packages\\sklearn\\linear_model\\_logistic.py:764: ConvergenceWarning: lbfgs failed to converge (status=1):\n",
      "STOP: TOTAL NO. of ITERATIONS REACHED LIMIT.\n",
      "\n",
      "Increase the number of iterations (max_iter) or scale the data as shown in:\n",
      "    https://scikit-learn.org/stable/modules/preprocessing.html\n",
      "Please also refer to the documentation for alternative solver options:\n",
      "    https://scikit-learn.org/stable/modules/linear_model.html#logistic-regression\n",
      "  extra_warning_msg=_LOGISTIC_SOLVER_CONVERGENCE_MSG)\n",
      "C:\\Users\\wonso\\anaconda3\\lib\\site-packages\\xgboost\\sklearn.py:888: UserWarning: The use of label encoder in XGBClassifier is deprecated and will be removed in a future release. To remove this warning, do the following: 1) Pass option use_label_encoder=False when constructing XGBClassifier object; and 2) Encode your labels (y) as integers starting with 0, i.e. 0, 1, 2, ..., [num_class - 1].\n",
      "  warnings.warn(label_encoder_deprecation_msg, UserWarning)\n"
     ]
    },
    {
     "name": "stdout",
     "output_type": "stream",
     "text": [
      "[21:17:40] WARNING: C:/Users/Administrator/workspace/xgboost-win64_release_1.3.0/src/learner.cc:1061: Starting in XGBoost 1.3.0, the default evaluation metric used with the objective 'binary:logistic' was changed from 'error' to 'logloss'. Explicitly set eval_metric if you'd like to restore the old behavior.\n"
     ]
    },
    {
     "data": {
      "text/html": [
       "<div>\n",
       "<style scoped>\n",
       "    .dataframe tbody tr th:only-of-type {\n",
       "        vertical-align: middle;\n",
       "    }\n",
       "\n",
       "    .dataframe tbody tr th {\n",
       "        vertical-align: top;\n",
       "    }\n",
       "\n",
       "    .dataframe thead th {\n",
       "        text-align: right;\n",
       "    }\n",
       "</style>\n",
       "<table border=\"1\" class=\"dataframe\">\n",
       "  <thead>\n",
       "    <tr style=\"text-align: right;\">\n",
       "      <th></th>\n",
       "      <th>accuracy</th>\n",
       "      <th>prediction</th>\n",
       "      <th>recall</th>\n",
       "      <th>f1_score</th>\n",
       "      <th>run_time</th>\n",
       "    </tr>\n",
       "  </thead>\n",
       "  <tbody>\n",
       "    <tr>\n",
       "      <th>LogisticRegression</th>\n",
       "      <td>0.638005</td>\n",
       "      <td>0.883252</td>\n",
       "      <td>0.638005</td>\n",
       "      <td>0.740860</td>\n",
       "      <td>0.184477</td>\n",
       "    </tr>\n",
       "    <tr>\n",
       "      <th>RandomForestClassifier</th>\n",
       "      <td>0.861503</td>\n",
       "      <td>0.862537</td>\n",
       "      <td>0.861503</td>\n",
       "      <td>0.862020</td>\n",
       "      <td>2.764857</td>\n",
       "    </tr>\n",
       "    <tr>\n",
       "      <th>AdaBoostClassifier</th>\n",
       "      <td>0.782737</td>\n",
       "      <td>0.868796</td>\n",
       "      <td>0.782737</td>\n",
       "      <td>0.823524</td>\n",
       "      <td>11.787836</td>\n",
       "    </tr>\n",
       "    <tr>\n",
       "      <th>GradientBoostingClassifier</th>\n",
       "      <td>0.905481</td>\n",
       "      <td>0.859478</td>\n",
       "      <td>0.905481</td>\n",
       "      <td>0.881880</td>\n",
       "      <td>15.608478</td>\n",
       "    </tr>\n",
       "    <tr>\n",
       "      <th>XGBClassifier</th>\n",
       "      <td>0.898589</td>\n",
       "      <td>0.854029</td>\n",
       "      <td>0.898589</td>\n",
       "      <td>0.875743</td>\n",
       "      <td>0.457454</td>\n",
       "    </tr>\n",
       "    <tr>\n",
       "      <th>LGBMClassifier</th>\n",
       "      <td>0.911388</td>\n",
       "      <td>0.856343</td>\n",
       "      <td>0.911388</td>\n",
       "      <td>0.883008</td>\n",
       "      <td>0.403919</td>\n",
       "    </tr>\n",
       "    <tr>\n",
       "      <th>CatBoostClassifier</th>\n",
       "      <td>0.790286</td>\n",
       "      <td>0.868964</td>\n",
       "      <td>0.790286</td>\n",
       "      <td>0.827759</td>\n",
       "      <td>8.431468</td>\n",
       "    </tr>\n",
       "  </tbody>\n",
       "</table>\n",
       "</div>"
      ],
      "text/plain": [
       "                            accuracy  prediction    recall  f1_score  \\\n",
       "LogisticRegression          0.638005    0.883252  0.638005  0.740860   \n",
       "RandomForestClassifier      0.861503    0.862537  0.861503  0.862020   \n",
       "AdaBoostClassifier          0.782737    0.868796  0.782737  0.823524   \n",
       "GradientBoostingClassifier  0.905481    0.859478  0.905481  0.881880   \n",
       "XGBClassifier               0.898589    0.854029  0.898589  0.875743   \n",
       "LGBMClassifier              0.911388    0.856343  0.911388  0.883008   \n",
       "CatBoostClassifier          0.790286    0.868964  0.790286  0.827759   \n",
       "\n",
       "                             run_time  \n",
       "LogisticRegression           0.184477  \n",
       "RandomForestClassifier       2.764857  \n",
       "AdaBoostClassifier          11.787836  \n",
       "GradientBoostingClassifier  15.608478  \n",
       "XGBClassifier                0.457454  \n",
       "LGBMClassifier               0.403919  \n",
       "CatBoostClassifier           8.431468  "
      ]
     },
     "execution_count": 26,
     "metadata": {},
     "output_type": "execute_result"
    }
   ],
   "source": [
    "Train_Evaluate_Models(balanced_info, info_testX, info_testy)"
   ]
  },
  {
   "cell_type": "markdown",
   "metadata": {},
   "source": [
    "### 4. 5. Model Selection \n",
    "> **LGBMClassifier** <br>\n",
    "> For all type of offers,  \"LGBMClassifier\" shows one of the outstanding model performances. Also the model performed well within a short period of time. In this section, I additionally compare several input features that show significant difference between 'desirably' predicted samples and 'non-desirably' predicted samples. "
   ]
  },
  {
   "cell_type": "code",
   "execution_count": 27,
   "metadata": {},
   "outputs": [],
   "source": [
    "bogo_all_results = pd.DataFrame(lgbm.predict(bogo_testX), columns=['predicted_target'])\n",
    "bogo_predicted = pd.concat([bogo_testX.reset_index(), bogo_all_results], axis=1)"
   ]
  },
  {
   "cell_type": "code",
   "execution_count": 28,
   "metadata": {},
   "outputs": [],
   "source": [
    "disc_all_results = pd.DataFrame(lgbm.predict(disc_testX), columns=['predicted_target'])\n",
    "disc_predicted = pd.concat([disc_testX.reset_index(), disc_all_results], axis=1)\n"
   ]
  },
  {
   "cell_type": "code",
   "execution_count": 29,
   "metadata": {},
   "outputs": [],
   "source": [
    "info_all_results = pd.DataFrame(lgbm.predict(info_testX), columns=['predicted_target'])\n",
    "info_predicted = pd.concat([info_testX.reset_index(), info_all_results], axis=1)"
   ]
  },
  {
   "cell_type": "code",
   "execution_count": 30,
   "metadata": {
    "scrolled": true
   },
   "outputs": [
    {
     "data": {
      "text/plain": [
       "Text(0.5, 1.0, 'Monetary Value (BOGO)')"
      ]
     },
     "execution_count": 30,
     "metadata": {},
     "output_type": "execute_result"
    },
    {
     "data": {
      "image/png": "[encoded data removed]",
      "text/plain": [
       "<Figure size 1080x216 with 3 Axes>"
      ]
     },
     "metadata": {},
     "output_type": "display_data"
    }
   ],
   "source": [
    "plt.figure(figsize=[15,3]) \n",
    "plt.subplots_adjust(wspace = 0.3 , hspace= 0.1)\n",
    "\n",
    "plt.subplot(1, 3, 1)\n",
    "sns.barplot(data = bogo_predicted, x = 'predicted_target', y = 'recency')\n",
    "plt.title('Recency (BOGO)', fontsize = 13)\n",
    "\n",
    "plt.subplot(1, 3, 2)\n",
    "sns.barplot(data = bogo_predicted, x = 'predicted_target', y = 'frequency')\n",
    "plt.title('Frequency (BOGO)', fontsize = 13)\n",
    "\n",
    "plt.subplot(1, 3, 3)\n",
    "sns.barplot(data = bogo_predicted, x = 'predicted_target', y = 'monetary')\n",
    "plt.title('Monetary Value (BOGO)', fontsize = 13)"
   ]
  },
  {
   "cell_type": "code",
   "execution_count": 31,
   "metadata": {},
   "outputs": [
    {
     "data": {
      "text/plain": [
       "Text(0.5, 1.0, 'Monetary (Discount)')"
      ]
     },
     "execution_count": 31,
     "metadata": {},
     "output_type": "execute_result"
    },
    {
     "data": {
      "image/png": "[encoded data removed]",
      "text/plain": [
       "<Figure size 1080x216 with 3 Axes>"
      ]
     },
     "metadata": {},
     "output_type": "display_data"
    }
   ],
   "source": [
    "plt.figure(figsize=[15,3]) \n",
    "plt.subplots_adjust(wspace = 0.3 , hspace= 0.5)\n",
    "\n",
    "plt.subplot(1, 3, 1)\n",
    "sns.barplot(data = disc_predicted, x = 'predicted_target', y = 'recency')\n",
    "plt.title('Recency (Discount)', fontsize = 13)\n",
    "\n",
    "plt.subplot(1, 3, 2)\n",
    "sns.barplot(data = disc_predicted, x = 'predicted_target', y = 'frequency')\n",
    "plt.title('Frequency (Discount)', fontsize = 13)\n",
    "\n",
    "plt.subplot(1, 3, 3)\n",
    "sns.barplot(data = disc_predicted, x = 'predicted_target', y = 'monetary')\n",
    "plt.title('Monetary (Discount)', fontsize = 13)"
   ]
  },
  {
   "cell_type": "code",
   "execution_count": 32,
   "metadata": {},
   "outputs": [
    {
     "data": {
      "text/plain": [
       "Text(0.5, 1.0, 'Monetary (Informational)')"
      ]
     },
     "execution_count": 32,
     "metadata": {},
     "output_type": "execute_result"
    },
    {
     "data": {
      "image/png": "[encoded data removed]",
      "text/plain": [
       "<Figure size 1080x216 with 3 Axes>"
      ]
     },
     "metadata": {},
     "output_type": "display_data"
    }
   ],
   "source": [
    "plt.figure(figsize=[15,3]) \n",
    "plt.subplots_adjust(wspace = 0.3 , hspace= 0.5)\n",
    "\n",
    "plt.subplot(1, 3, 1)\n",
    "sns.barplot(data = info_predicted, x = 'predicted_target', y = 'recency')\n",
    "plt.title('Recency (Informational)', fontsize = 13)\n",
    "\n",
    "plt.subplot(1, 3, 2)\n",
    "sns.barplot(data = info_predicted, x = 'predicted_target', y = 'frequency')\n",
    "plt.title('Frequency (Informational)', fontsize = 13)\n",
    "\n",
    "plt.subplot(1, 3, 3)\n",
    "sns.barplot(data = info_predicted, x = 'predicted_target', y = 'monetary')\n",
    "plt.title('Monetary (Informational)', fontsize = 13)"
   ]
  },
  {
   "cell_type": "markdown",
   "metadata": {},
   "source": [
    "<a id='Conclusion'></a>\n",
    "## 5. Conclusion"
   ]
  },
  {
   "cell_type": "markdown",
   "metadata": {},
   "source": [
    "> In this analysis, I analysed how Starbucks customers use offers based on the transaction data. The customer profile dataset contains a few missing data. These missing values are imputed by the median value of each features. Imputation with its own median values has several advantages. Since the median value is one of the existing values, it is realistic. Also it makes the distribution less skewed. \n",
    "By adjusting the existing features in transcript dataframe, I convert the time column into day, and month columns. <br><br>\n",
    "> Using the cleaned data, I explored current business situations. The number of traffics varies in each month. It increased until the third month. The change of sales amounts follows almost identical patterns with the change of traffics. We can understand that more traffics bring better sales performances. Interestingly, although the number of traffics and sales amount are different in each month, the average spending per each transaction is remarkably similar across the months. <br><br>\n",
    "> All customers in the profile dataset purchased products at Starbucks, although not all of them received offers. The average age of customers are 54.5 years old, and their average yearly income is around 65227. There is no significant difference between genders regarding the received type of offers. Finally, the total number of offers and the number of each type of offers are not correlated with customer's ages, incomes, the number of days as a Starbucks member. <br><br>\n",
    "> The number of issued offers is unbalanced. 'BOGO' and 'Discount' types of offers are almost evenly distributed; around 30000. On the other hand, \"Informational\" type of offer is issued only the half of them (ca. 15000). Not all of the issued offers are viewed. Only 75,68% (= 57725/76277) of offers are checked by customers. Only half of issued 'BOGO' and 'discount' offers are completed. <br><br>\n",
    ">  In addition, I explored customer purchasing patterns based on RFM analysis. RFM is an evaluation method to analyse customer value. It is often used in database marketing especially in retail and professional services industries. RFM indicates the following 3 dimensions: Recency, Frequency, Monetary Value. <br><br>\n",
    "> As mentioned in Capstone proposal, I defined the desirably used offers by both Case 1 and Case 2. Based on the definition, I identified all offer usages into 2 groups: 'desirable', 'non-desirable' per each offer type. As you can see the first bar chart in the part 2, all three datasets highly imbalanced. Therefore, I alleviated the unbalanced datasets by applying Synthetic Minority Oversampling Technique (SMOTE). Then I trained each dataset with various classification models.  <br><br>\n",
    ">For all type of offers, \"LGBMClassifier\" showed the optimal model performances. It achieved 0.7742, 0.7388, 0.8830 of f1-score for bogo, discount, informational datasets, respectively, within the shorter period of time. The f1-score is considerably larger than that of the benchmark model. Also the time duration is much shorter than that of the benchmark model. The model with LGBMClassifier is more efficient than the benchmark model. "
   ]
  },
  {
   "cell_type": "code",
   "execution_count": null,
   "metadata": {},
   "outputs": [],
   "source": []
  }
 ],
 "metadata": {
  "kernelspec": {
   "display_name": "Python 3 (ipykernel)",
   "language": "python",
   "name": "python3"
  },
  "language_info": {
   "codemirror_mode": {
    "name": "ipython",
    "version": 3
   },
   "file_extension": ".py",
   "mimetype": "text/x-python",
   "name": "python",
   "nbconvert_exporter": "python",
   "pygments_lexer": "ipython3",
   "version": "3.9.7"
  }
 },
 "nbformat": 4,
 "nbformat_minor": 4
}
